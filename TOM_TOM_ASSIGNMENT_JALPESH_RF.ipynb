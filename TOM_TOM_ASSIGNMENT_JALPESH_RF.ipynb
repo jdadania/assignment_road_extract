{
  "nbformat": 4,
  "nbformat_minor": 0,
  "metadata": {
    "colab": {
      "name": "TOM_TOM_ASSIGNMENT_JALPESH_RF.ipynb",
      "provenance": [],
      "collapsed_sections": []
    },
    "kernelspec": {
      "name": "python3",
      "display_name": "Python 3"
    },
    "language_info": {
      "name": "python"
    },
    "accelerator": "GPU"
  },
  "cells": [
    {
      "cell_type": "code",
      "execution_count": 2,
      "metadata": {
        "colab": {
          "base_uri": "https://localhost:8080/"
        },
        "id": "_xVgYNH1aAfZ",
        "outputId": "ba18a965-4297-44d9-8d03-d64349671be7"
      },
      "outputs": [
        {
          "output_type": "stream",
          "name": "stdout",
          "text": [
            "Mounted at /content/drive\n"
          ]
        }
      ],
      "source": [
        "from google.colab import drive\n",
        "drive.mount('/content/drive')"
      ]
    },
    {
      "cell_type": "code",
      "source": [
        "from os import listdir\n",
        "from numpy import asarray, load\n",
        "from matplotlib import pyplot\n",
        "import numpy as np\n",
        "import cv2\n",
        "from sklearn.model_selection import train_test_split\n",
        "import os\n",
        "import pandas as pd\n",
        "import pickle"
      ],
      "metadata": {
        "id": "-apnEVqHb9gm"
      },
      "execution_count": 51,
      "outputs": []
    },
    {
      "cell_type": "code",
      "source": [
        "# dataset path\n",
        "X = \"/content/drive/MyDrive/Colab Notebooks/road_segmentation_ideal/training/input/\"\n",
        "Y = \"/content/drive/MyDrive/Colab Notebooks/road_segmentation_ideal/training/output/\""
      ],
      "metadata": {
        "id": "1y3MNj5xcDFK"
      },
      "execution_count": 52,
      "outputs": []
    },
    {
      "cell_type": "code",
      "source": [
        "image_dataset=pd.DataFrame()"
      ],
      "metadata": {
        "id": "_Z-wbMxhdpKf"
      },
      "execution_count": 53,
      "outputs": []
    },
    {
      "cell_type": "code",
      "source": [
        "for image in os.listdir(X):\n",
        "  df=pd.DataFrame()\n",
        "  input_img=cv2.imread(X+image)\n",
        "  if input_img.ndim == 3 and input_img.shape[-1]==3:\n",
        "    img=cv2.cvtColor(input_img,cv2.COLOR_BGR2GRAY)\n",
        "  elif input_img.ndim==2:\n",
        "    img = input_img\n",
        "  else:\n",
        "    raise Exception(\"model works only on RBG and gray images\")"
      ],
      "metadata": {
        "id": "EoEcYIJKd0AP"
      },
      "execution_count": 54,
      "outputs": []
    },
    {
      "cell_type": "code",
      "source": [
        "pixel_values =img.reshape(-1)\n",
        "df['Pixel_Value']=pixel_values\n",
        "df['Image_Name']=image"
      ],
      "metadata": {
        "id": "GIxrNwJ0erbO"
      },
      "execution_count": 55,
      "outputs": []
    },
    {
      "cell_type": "code",
      "source": [
        "#Generate Gabor features\n",
        "num = 1  #To count numbers up in order to give Gabor features a lable in the data frame\n",
        "kernels = []\n",
        "for theta in range(2):   #Define number of thetas\n",
        "    theta = theta / 4. * np.pi\n",
        "    for sigma in (1, 3):  #Sigma with 1 and 3\n",
        "        for lamda in np.arange(0, np.pi, np.pi / 4):   #Range of wavelengths\n",
        "            for gamma in (0.05, 0.5):   #Gamma values of 0.05 and 0.5\n",
        "                gabor_label = 'Gabor' + str(num)  #Label Gabor columns as Gabor1, Gabor2, etc.\n",
        "                #print(gabor_label)\n",
        "                ksize=9\n",
        "                kernel = cv2.getGaborKernel((ksize, ksize), sigma, theta, lamda, gamma, 0, ktype=cv2.CV_32F)    \n",
        "                kernels.append(kernel)\n",
        "                #Now filter the image and add values to a new column \n",
        "                fimg = cv2.filter2D(img, cv2.CV_8UC3, kernel)\n",
        "                filtered_img = fimg.reshape(-1)\n",
        "                df[gabor_label] = filtered_img  #Labels columns as Gabor1, Gabor2, etc.\n",
        "                print(gabor_label, ': theta=', theta, ': sigma=', sigma, ': lamda=', lamda, ': gamma=', gamma)\n",
        "                num += 1  #Increment for gabor column label\n",
        "                "
      ],
      "metadata": {
        "colab": {
          "base_uri": "https://localhost:8080/"
        },
        "id": "EhCDL-IHfasR",
        "outputId": "ab7d79db-3c52-4d0c-b435-681176faa268"
      },
      "execution_count": 56,
      "outputs": [
        {
          "output_type": "stream",
          "name": "stdout",
          "text": [
            "Gabor1 : theta= 0.0 : sigma= 1 : lamda= 0.0 : gamma= 0.05\n",
            "Gabor2 : theta= 0.0 : sigma= 1 : lamda= 0.0 : gamma= 0.5\n",
            "Gabor3 : theta= 0.0 : sigma= 1 : lamda= 0.7853981633974483 : gamma= 0.05\n",
            "Gabor4 : theta= 0.0 : sigma= 1 : lamda= 0.7853981633974483 : gamma= 0.5\n",
            "Gabor5 : theta= 0.0 : sigma= 1 : lamda= 1.5707963267948966 : gamma= 0.05\n",
            "Gabor6 : theta= 0.0 : sigma= 1 : lamda= 1.5707963267948966 : gamma= 0.5\n",
            "Gabor7 : theta= 0.0 : sigma= 1 : lamda= 2.356194490192345 : gamma= 0.05\n",
            "Gabor8 : theta= 0.0 : sigma= 1 : lamda= 2.356194490192345 : gamma= 0.5\n",
            "Gabor9 : theta= 0.0 : sigma= 3 : lamda= 0.0 : gamma= 0.05\n",
            "Gabor10 : theta= 0.0 : sigma= 3 : lamda= 0.0 : gamma= 0.5\n",
            "Gabor11 : theta= 0.0 : sigma= 3 : lamda= 0.7853981633974483 : gamma= 0.05\n",
            "Gabor12 : theta= 0.0 : sigma= 3 : lamda= 0.7853981633974483 : gamma= 0.5\n",
            "Gabor13 : theta= 0.0 : sigma= 3 : lamda= 1.5707963267948966 : gamma= 0.05\n",
            "Gabor14 : theta= 0.0 : sigma= 3 : lamda= 1.5707963267948966 : gamma= 0.5\n",
            "Gabor15 : theta= 0.0 : sigma= 3 : lamda= 2.356194490192345 : gamma= 0.05\n",
            "Gabor16 : theta= 0.0 : sigma= 3 : lamda= 2.356194490192345 : gamma= 0.5\n",
            "Gabor17 : theta= 0.7853981633974483 : sigma= 1 : lamda= 0.0 : gamma= 0.05\n",
            "Gabor18 : theta= 0.7853981633974483 : sigma= 1 : lamda= 0.0 : gamma= 0.5\n",
            "Gabor19 : theta= 0.7853981633974483 : sigma= 1 : lamda= 0.7853981633974483 : gamma= 0.05\n",
            "Gabor20 : theta= 0.7853981633974483 : sigma= 1 : lamda= 0.7853981633974483 : gamma= 0.5\n",
            "Gabor21 : theta= 0.7853981633974483 : sigma= 1 : lamda= 1.5707963267948966 : gamma= 0.05\n",
            "Gabor22 : theta= 0.7853981633974483 : sigma= 1 : lamda= 1.5707963267948966 : gamma= 0.5\n",
            "Gabor23 : theta= 0.7853981633974483 : sigma= 1 : lamda= 2.356194490192345 : gamma= 0.05\n",
            "Gabor24 : theta= 0.7853981633974483 : sigma= 1 : lamda= 2.356194490192345 : gamma= 0.5\n",
            "Gabor25 : theta= 0.7853981633974483 : sigma= 3 : lamda= 0.0 : gamma= 0.05\n",
            "Gabor26 : theta= 0.7853981633974483 : sigma= 3 : lamda= 0.0 : gamma= 0.5\n",
            "Gabor27 : theta= 0.7853981633974483 : sigma= 3 : lamda= 0.7853981633974483 : gamma= 0.05\n",
            "Gabor28 : theta= 0.7853981633974483 : sigma= 3 : lamda= 0.7853981633974483 : gamma= 0.5\n",
            "Gabor29 : theta= 0.7853981633974483 : sigma= 3 : lamda= 1.5707963267948966 : gamma= 0.05\n",
            "Gabor30 : theta= 0.7853981633974483 : sigma= 3 : lamda= 1.5707963267948966 : gamma= 0.5\n",
            "Gabor31 : theta= 0.7853981633974483 : sigma= 3 : lamda= 2.356194490192345 : gamma= 0.05\n",
            "Gabor32 : theta= 0.7853981633974483 : sigma= 3 : lamda= 2.356194490192345 : gamma= 0.5\n"
          ]
        }
      ]
    },
    {
      "cell_type": "code",
      "source": [
        "from skimage.filters import roberts, sobel, scharr, prewitt\n",
        "\n",
        "#Gerate OTHER FEATURES and add them to the data frame\n",
        "                \n",
        "#CANNY EDGE\n",
        "edges = cv2.Canny(img, 100,200)   #Image, min and max values\n",
        "edges1 = edges.reshape(-1)\n",
        "df['Canny Edge'] = edges1 #Add column to original dataframe\n",
        "\n",
        "\n",
        "#ROBERTS EDGE\n",
        "edge_roberts = roberts(img)\n",
        "edge_roberts1 = edge_roberts.reshape(-1)\n",
        "df['Roberts'] = edge_roberts1\n",
        "\n",
        "#SOBEL\n",
        "edge_sobel = sobel(img)\n",
        "edge_sobel1 = edge_sobel.reshape(-1)\n",
        "df['Sobel'] = edge_sobel1\n",
        "\n",
        "#SCHARR\n",
        "edge_scharr = scharr(img)\n",
        "edge_scharr1 = edge_scharr.reshape(-1)\n",
        "df['Scharr'] = edge_scharr1\n",
        "\n",
        "#PREWITT\n",
        "edge_prewitt = prewitt(img)\n",
        "edge_prewitt1 = edge_prewitt.reshape(-1)\n",
        "df['Prewitt'] = edge_prewitt1\n",
        "\n",
        "#GAUSSIAN with sigma=3\n",
        "from scipy import ndimage as nd\n",
        "gaussian_img = nd.gaussian_filter(img, sigma=3)\n",
        "gaussian_img1 = gaussian_img.reshape(-1)\n",
        "df['Gaussian s3'] = gaussian_img1\n",
        "\n",
        "#GAUSSIAN with sigma=7\n",
        "gaussian_img2 = nd.gaussian_filter(img, sigma=7)\n",
        "gaussian_img3 = gaussian_img2.reshape(-1)\n",
        "df['Gaussian s7'] = gaussian_img3\n",
        "\n",
        "#MEDIAN with sigma=3\n",
        "median_img = nd.median_filter(img, size=3)\n",
        "median_img1 = median_img.reshape(-1)\n",
        "df['Median s3'] = median_img1\n",
        "\n",
        "#VARIANCE with size=3\n",
        "variance_img = nd.generic_filter(img, np.var, size=3)\n",
        "variance_img1 = variance_img.reshape(-1)\n",
        "df['Variance s3'] = variance_img1  #Add column to original dataframe\n"
      ],
      "metadata": {
        "id": "mHdiHuXDf0cZ"
      },
      "execution_count": 57,
      "outputs": []
    },
    {
      "cell_type": "code",
      "source": [
        "image_dataset=image_dataset.append(df)"
      ],
      "metadata": {
        "id": "4vrH_19MgADO"
      },
      "execution_count": 58,
      "outputs": []
    },
    {
      "cell_type": "code",
      "source": [
        "mask_dataset = pd.DataFrame()"
      ],
      "metadata": {
        "id": "VhH8G5OVgFAn"
      },
      "execution_count": 59,
      "outputs": []
    },
    {
      "cell_type": "code",
      "source": [
        "for mask in os.listdir(Y):\n",
        "  df2=pd.DataFrame()\n",
        "  input_mask=cv2.imread(Y+mask)\n",
        "  if input_mask.ndim == 3 and input_mask.shape[-1]==3:\n",
        "    label=cv2.cvtColor(input_mask,cv2.COLOR_BGR2GRAY)\n",
        "  elif input_mask.ndim==2:\n",
        "    label = input_mask\n",
        "  else:\n",
        "    raise Exception(\"model works only on RBG and gray images\")"
      ],
      "metadata": {
        "id": "qsFsbEBHgJxt"
      },
      "execution_count": 60,
      "outputs": []
    },
    {
      "cell_type": "code",
      "source": [
        "label_values =label.reshape(-1)\n",
        "df2['Label_Value']=label_values\n",
        "df2['Mask_Name']=image"
      ],
      "metadata": {
        "id": "Wk3OD_s7g2kv"
      },
      "execution_count": 61,
      "outputs": []
    },
    {
      "cell_type": "code",
      "source": [
        "mask_dataset=mask_dataset.append(df2)"
      ],
      "metadata": {
        "id": "XA68rS0ihCxn"
      },
      "execution_count": 62,
      "outputs": []
    },
    {
      "cell_type": "code",
      "source": [
        "dataset=pd.concat([image_dataset,mask_dataset],axis=1)"
      ],
      "metadata": {
        "id": "NZw16X5uhATr"
      },
      "execution_count": 63,
      "outputs": []
    },
    {
      "cell_type": "code",
      "source": [
        "dataset=dataset[dataset.Label_Value!=0]"
      ],
      "metadata": {
        "id": "I13t2GYxhUp9"
      },
      "execution_count": 64,
      "outputs": []
    },
    {
      "cell_type": "code",
      "source": [
        "#Define the dependent variable that needs to be predicted (labels)\n",
        "Y = dataset[\"Label_Value\"].values\n",
        "\n",
        "#Define the independent variables\n",
        "X = dataset.drop(labels = [\"Image_Name\",\"Mask_Name\",\"Label_Value\"], axis=1) "
      ],
      "metadata": {
        "id": "XymO7zLPhz4Q"
      },
      "execution_count": 65,
      "outputs": []
    },
    {
      "cell_type": "code",
      "source": [
        "dataset.head()"
      ],
      "metadata": {
        "id": "7lVDJbsR4d14",
        "outputId": "923c4c85-17eb-4267-f0a3-570c267ad4d3",
        "colab": {
          "base_uri": "https://localhost:8080/",
          "height": 365
        }
      },
      "execution_count": 66,
      "outputs": [
        {
          "output_type": "execute_result",
          "data": {
            "text/html": [
              "\n",
              "  <div id=\"df-18d273c2-dcde-4498-83a4-9251d2ebff30\">\n",
              "    <div class=\"colab-df-container\">\n",
              "      <div>\n",
              "<style scoped>\n",
              "    .dataframe tbody tr th:only-of-type {\n",
              "        vertical-align: middle;\n",
              "    }\n",
              "\n",
              "    .dataframe tbody tr th {\n",
              "        vertical-align: top;\n",
              "    }\n",
              "\n",
              "    .dataframe thead th {\n",
              "        text-align: right;\n",
              "    }\n",
              "</style>\n",
              "<table border=\"1\" class=\"dataframe\">\n",
              "  <thead>\n",
              "    <tr style=\"text-align: right;\">\n",
              "      <th></th>\n",
              "      <th>Pixel_Value</th>\n",
              "      <th>Image_Name</th>\n",
              "      <th>Gabor1</th>\n",
              "      <th>Gabor2</th>\n",
              "      <th>Gabor3</th>\n",
              "      <th>Gabor4</th>\n",
              "      <th>Gabor5</th>\n",
              "      <th>Gabor6</th>\n",
              "      <th>Gabor7</th>\n",
              "      <th>Gabor8</th>\n",
              "      <th>Gabor9</th>\n",
              "      <th>Gabor10</th>\n",
              "      <th>Gabor11</th>\n",
              "      <th>Gabor12</th>\n",
              "      <th>Gabor13</th>\n",
              "      <th>Gabor14</th>\n",
              "      <th>Gabor15</th>\n",
              "      <th>Gabor16</th>\n",
              "      <th>Gabor17</th>\n",
              "      <th>Gabor18</th>\n",
              "      <th>Gabor19</th>\n",
              "      <th>Gabor20</th>\n",
              "      <th>Gabor21</th>\n",
              "      <th>Gabor22</th>\n",
              "      <th>Gabor23</th>\n",
              "      <th>Gabor24</th>\n",
              "      <th>Gabor25</th>\n",
              "      <th>Gabor26</th>\n",
              "      <th>Gabor27</th>\n",
              "      <th>Gabor28</th>\n",
              "      <th>Gabor29</th>\n",
              "      <th>Gabor30</th>\n",
              "      <th>Gabor31</th>\n",
              "      <th>Gabor32</th>\n",
              "      <th>Canny Edge</th>\n",
              "      <th>Roberts</th>\n",
              "      <th>Sobel</th>\n",
              "      <th>Scharr</th>\n",
              "      <th>Prewitt</th>\n",
              "      <th>Gaussian s3</th>\n",
              "      <th>Gaussian s7</th>\n",
              "      <th>Median s3</th>\n",
              "      <th>Variance s3</th>\n",
              "      <th>Label_Value</th>\n",
              "      <th>Mask_Name</th>\n",
              "    </tr>\n",
              "  </thead>\n",
              "  <tbody>\n",
              "    <tr>\n",
              "      <th>196</th>\n",
              "      <td>76</td>\n",
              "      <td>img-997.png</td>\n",
              "      <td>0</td>\n",
              "      <td>0</td>\n",
              "      <td>255</td>\n",
              "      <td>200</td>\n",
              "      <td>149</td>\n",
              "      <td>69</td>\n",
              "      <td>76</td>\n",
              "      <td>36</td>\n",
              "      <td>0</td>\n",
              "      <td>0</td>\n",
              "      <td>242</td>\n",
              "      <td>211</td>\n",
              "      <td>0</td>\n",
              "      <td>0</td>\n",
              "      <td>0</td>\n",
              "      <td>0</td>\n",
              "      <td>0</td>\n",
              "      <td>0</td>\n",
              "      <td>255</td>\n",
              "      <td>255</td>\n",
              "      <td>0</td>\n",
              "      <td>1</td>\n",
              "      <td>118</td>\n",
              "      <td>23</td>\n",
              "      <td>0</td>\n",
              "      <td>0</td>\n",
              "      <td>255</td>\n",
              "      <td>255</td>\n",
              "      <td>0</td>\n",
              "      <td>0</td>\n",
              "      <td>80</td>\n",
              "      <td>64</td>\n",
              "      <td>255</td>\n",
              "      <td>0.091466</td>\n",
              "      <td>0.069987</td>\n",
              "      <td>0.069025</td>\n",
              "      <td>0.071269</td>\n",
              "      <td>77</td>\n",
              "      <td>79</td>\n",
              "      <td>75</td>\n",
              "      <td>141</td>\n",
              "      <td>255</td>\n",
              "      <td>img-997.png</td>\n",
              "    </tr>\n",
              "    <tr>\n",
              "      <th>197</th>\n",
              "      <td>88</td>\n",
              "      <td>img-997.png</td>\n",
              "      <td>0</td>\n",
              "      <td>0</td>\n",
              "      <td>255</td>\n",
              "      <td>253</td>\n",
              "      <td>184</td>\n",
              "      <td>94</td>\n",
              "      <td>95</td>\n",
              "      <td>46</td>\n",
              "      <td>0</td>\n",
              "      <td>0</td>\n",
              "      <td>255</td>\n",
              "      <td>255</td>\n",
              "      <td>0</td>\n",
              "      <td>0</td>\n",
              "      <td>0</td>\n",
              "      <td>0</td>\n",
              "      <td>0</td>\n",
              "      <td>0</td>\n",
              "      <td>255</td>\n",
              "      <td>255</td>\n",
              "      <td>82</td>\n",
              "      <td>0</td>\n",
              "      <td>113</td>\n",
              "      <td>15</td>\n",
              "      <td>0</td>\n",
              "      <td>0</td>\n",
              "      <td>255</td>\n",
              "      <td>255</td>\n",
              "      <td>78</td>\n",
              "      <td>40</td>\n",
              "      <td>60</td>\n",
              "      <td>37</td>\n",
              "      <td>255</td>\n",
              "      <td>0.051580</td>\n",
              "      <td>0.054233</td>\n",
              "      <td>0.055079</td>\n",
              "      <td>0.053427</td>\n",
              "      <td>78</td>\n",
              "      <td>77</td>\n",
              "      <td>77</td>\n",
              "      <td>93</td>\n",
              "      <td>255</td>\n",
              "      <td>img-997.png</td>\n",
              "    </tr>\n",
              "    <tr>\n",
              "      <th>198</th>\n",
              "      <td>83</td>\n",
              "      <td>img-997.png</td>\n",
              "      <td>0</td>\n",
              "      <td>0</td>\n",
              "      <td>255</td>\n",
              "      <td>250</td>\n",
              "      <td>120</td>\n",
              "      <td>80</td>\n",
              "      <td>20</td>\n",
              "      <td>29</td>\n",
              "      <td>0</td>\n",
              "      <td>0</td>\n",
              "      <td>187</td>\n",
              "      <td>176</td>\n",
              "      <td>0</td>\n",
              "      <td>0</td>\n",
              "      <td>0</td>\n",
              "      <td>0</td>\n",
              "      <td>0</td>\n",
              "      <td>0</td>\n",
              "      <td>255</td>\n",
              "      <td>255</td>\n",
              "      <td>21</td>\n",
              "      <td>11</td>\n",
              "      <td>67</td>\n",
              "      <td>9</td>\n",
              "      <td>0</td>\n",
              "      <td>0</td>\n",
              "      <td>255</td>\n",
              "      <td>255</td>\n",
              "      <td>52</td>\n",
              "      <td>43</td>\n",
              "      <td>0</td>\n",
              "      <td>0</td>\n",
              "      <td>0</td>\n",
              "      <td>0.043404</td>\n",
              "      <td>0.017674</td>\n",
              "      <td>0.015293</td>\n",
              "      <td>0.022829</td>\n",
              "      <td>79</td>\n",
              "      <td>76</td>\n",
              "      <td>84</td>\n",
              "      <td>56</td>\n",
              "      <td>255</td>\n",
              "      <td>img-997.png</td>\n",
              "    </tr>\n",
              "    <tr>\n",
              "      <th>199</th>\n",
              "      <td>84</td>\n",
              "      <td>img-997.png</td>\n",
              "      <td>0</td>\n",
              "      <td>0</td>\n",
              "      <td>255</td>\n",
              "      <td>251</td>\n",
              "      <td>198</td>\n",
              "      <td>82</td>\n",
              "      <td>114</td>\n",
              "      <td>36</td>\n",
              "      <td>0</td>\n",
              "      <td>0</td>\n",
              "      <td>255</td>\n",
              "      <td>223</td>\n",
              "      <td>0</td>\n",
              "      <td>0</td>\n",
              "      <td>0</td>\n",
              "      <td>0</td>\n",
              "      <td>0</td>\n",
              "      <td>0</td>\n",
              "      <td>255</td>\n",
              "      <td>255</td>\n",
              "      <td>17</td>\n",
              "      <td>0</td>\n",
              "      <td>192</td>\n",
              "      <td>33</td>\n",
              "      <td>0</td>\n",
              "      <td>0</td>\n",
              "      <td>255</td>\n",
              "      <td>255</td>\n",
              "      <td>0</td>\n",
              "      <td>0</td>\n",
              "      <td>169</td>\n",
              "      <td>130</td>\n",
              "      <td>0</td>\n",
              "      <td>0.058298</td>\n",
              "      <td>0.053957</td>\n",
              "      <td>0.053567</td>\n",
              "      <td>0.055150</td>\n",
              "      <td>80</td>\n",
              "      <td>74</td>\n",
              "      <td>84</td>\n",
              "      <td>82</td>\n",
              "      <td>255</td>\n",
              "      <td>img-997.png</td>\n",
              "    </tr>\n",
              "    <tr>\n",
              "      <th>200</th>\n",
              "      <td>98</td>\n",
              "      <td>img-997.png</td>\n",
              "      <td>0</td>\n",
              "      <td>0</td>\n",
              "      <td>255</td>\n",
              "      <td>255</td>\n",
              "      <td>126</td>\n",
              "      <td>81</td>\n",
              "      <td>34</td>\n",
              "      <td>19</td>\n",
              "      <td>0</td>\n",
              "      <td>0</td>\n",
              "      <td>255</td>\n",
              "      <td>255</td>\n",
              "      <td>0</td>\n",
              "      <td>0</td>\n",
              "      <td>0</td>\n",
              "      <td>0</td>\n",
              "      <td>0</td>\n",
              "      <td>0</td>\n",
              "      <td>255</td>\n",
              "      <td>255</td>\n",
              "      <td>130</td>\n",
              "      <td>61</td>\n",
              "      <td>255</td>\n",
              "      <td>82</td>\n",
              "      <td>0</td>\n",
              "      <td>0</td>\n",
              "      <td>255</td>\n",
              "      <td>255</td>\n",
              "      <td>87</td>\n",
              "      <td>76</td>\n",
              "      <td>169</td>\n",
              "      <td>127</td>\n",
              "      <td>0</td>\n",
              "      <td>0.104383</td>\n",
              "      <td>0.065686</td>\n",
              "      <td>0.057617</td>\n",
              "      <td>0.076496</td>\n",
              "      <td>80</td>\n",
              "      <td>72</td>\n",
              "      <td>97</td>\n",
              "      <td>196</td>\n",
              "      <td>255</td>\n",
              "      <td>img-997.png</td>\n",
              "    </tr>\n",
              "  </tbody>\n",
              "</table>\n",
              "</div>\n",
              "      <button class=\"colab-df-convert\" onclick=\"convertToInteractive('df-18d273c2-dcde-4498-83a4-9251d2ebff30')\"\n",
              "              title=\"Convert this dataframe to an interactive table.\"\n",
              "              style=\"display:none;\">\n",
              "        \n",
              "  <svg xmlns=\"http://www.w3.org/2000/svg\" height=\"24px\"viewBox=\"0 0 24 24\"\n",
              "       width=\"24px\">\n",
              "    <path d=\"M0 0h24v24H0V0z\" fill=\"none\"/>\n",
              "    <path d=\"M18.56 5.44l.94 2.06.94-2.06 2.06-.94-2.06-.94-.94-2.06-.94 2.06-2.06.94zm-11 1L8.5 8.5l.94-2.06 2.06-.94-2.06-.94L8.5 2.5l-.94 2.06-2.06.94zm10 10l.94 2.06.94-2.06 2.06-.94-2.06-.94-.94-2.06-.94 2.06-2.06.94z\"/><path d=\"M17.41 7.96l-1.37-1.37c-.4-.4-.92-.59-1.43-.59-.52 0-1.04.2-1.43.59L10.3 9.45l-7.72 7.72c-.78.78-.78 2.05 0 2.83L4 21.41c.39.39.9.59 1.41.59.51 0 1.02-.2 1.41-.59l7.78-7.78 2.81-2.81c.8-.78.8-2.07 0-2.86zM5.41 20L4 18.59l7.72-7.72 1.47 1.35L5.41 20z\"/>\n",
              "  </svg>\n",
              "      </button>\n",
              "      \n",
              "  <style>\n",
              "    .colab-df-container {\n",
              "      display:flex;\n",
              "      flex-wrap:wrap;\n",
              "      gap: 12px;\n",
              "    }\n",
              "\n",
              "    .colab-df-convert {\n",
              "      background-color: #E8F0FE;\n",
              "      border: none;\n",
              "      border-radius: 50%;\n",
              "      cursor: pointer;\n",
              "      display: none;\n",
              "      fill: #1967D2;\n",
              "      height: 32px;\n",
              "      padding: 0 0 0 0;\n",
              "      width: 32px;\n",
              "    }\n",
              "\n",
              "    .colab-df-convert:hover {\n",
              "      background-color: #E2EBFA;\n",
              "      box-shadow: 0px 1px 2px rgba(60, 64, 67, 0.3), 0px 1px 3px 1px rgba(60, 64, 67, 0.15);\n",
              "      fill: #174EA6;\n",
              "    }\n",
              "\n",
              "    [theme=dark] .colab-df-convert {\n",
              "      background-color: #3B4455;\n",
              "      fill: #D2E3FC;\n",
              "    }\n",
              "\n",
              "    [theme=dark] .colab-df-convert:hover {\n",
              "      background-color: #434B5C;\n",
              "      box-shadow: 0px 1px 3px 1px rgba(0, 0, 0, 0.15);\n",
              "      filter: drop-shadow(0px 1px 2px rgba(0, 0, 0, 0.3));\n",
              "      fill: #FFFFFF;\n",
              "    }\n",
              "  </style>\n",
              "\n",
              "      <script>\n",
              "        const buttonEl =\n",
              "          document.querySelector('#df-18d273c2-dcde-4498-83a4-9251d2ebff30 button.colab-df-convert');\n",
              "        buttonEl.style.display =\n",
              "          google.colab.kernel.accessAllowed ? 'block' : 'none';\n",
              "\n",
              "        async function convertToInteractive(key) {\n",
              "          const element = document.querySelector('#df-18d273c2-dcde-4498-83a4-9251d2ebff30');\n",
              "          const dataTable =\n",
              "            await google.colab.kernel.invokeFunction('convertToInteractive',\n",
              "                                                     [key], {});\n",
              "          if (!dataTable) return;\n",
              "\n",
              "          const docLinkHtml = 'Like what you see? Visit the ' +\n",
              "            '<a target=\"_blank\" href=https://colab.research.google.com/notebooks/data_table.ipynb>data table notebook</a>'\n",
              "            + ' to learn more about interactive tables.';\n",
              "          element.innerHTML = '';\n",
              "          dataTable['output_type'] = 'display_data';\n",
              "          await google.colab.output.renderOutput(dataTable, element);\n",
              "          const docLink = document.createElement('div');\n",
              "          docLink.innerHTML = docLinkHtml;\n",
              "          element.appendChild(docLink);\n",
              "        }\n",
              "      </script>\n",
              "    </div>\n",
              "  </div>\n",
              "  "
            ],
            "text/plain": [
              "     Pixel_Value   Image_Name  Gabor1  ...  Variance s3  Label_Value    Mask_Name\n",
              "196           76  img-997.png       0  ...          141          255  img-997.png\n",
              "197           88  img-997.png       0  ...           93          255  img-997.png\n",
              "198           83  img-997.png       0  ...           56          255  img-997.png\n",
              "199           84  img-997.png       0  ...           82          255  img-997.png\n",
              "200           98  img-997.png       0  ...          196          255  img-997.png\n",
              "\n",
              "[5 rows x 45 columns]"
            ]
          },
          "metadata": {},
          "execution_count": 66
        }
      ]
    },
    {
      "cell_type": "code",
      "source": [
        "#Split data into train and test to verify accuracy after fitting the model. \n",
        "from sklearn.model_selection import train_test_split\n",
        "X_train, X_test, y_train, y_test = train_test_split(X, Y, test_size=0.2, random_state=20)"
      ],
      "metadata": {
        "id": "KteM71aNhf07"
      },
      "execution_count": 67,
      "outputs": []
    },
    {
      "cell_type": "code",
      "source": [
        "from sklearn.ensemble import RandomForestClassifier\n",
        "# Instantiate model with n number of decision trees\n",
        "model = RandomForestClassifier(n_estimators = 50, random_state = 42)"
      ],
      "metadata": {
        "id": "zlimao9vhrZN"
      },
      "execution_count": 68,
      "outputs": []
    },
    {
      "cell_type": "code",
      "source": [
        "model.fit(X_train,y_train)"
      ],
      "metadata": {
        "colab": {
          "base_uri": "https://localhost:8080/"
        },
        "id": "J2k4ktFUiblA",
        "outputId": "9784ac21-84d0-4534-9b7e-f5759708b3b2"
      },
      "execution_count": 69,
      "outputs": [
        {
          "output_type": "execute_result",
          "data": {
            "text/plain": [
              "RandomForestClassifier(n_estimators=50, random_state=42)"
            ]
          },
          "metadata": {},
          "execution_count": 69
        }
      ]
    },
    {
      "cell_type": "code",
      "source": [
        "from sklearn import metrics\n",
        "predection_test=model.predict(X_test)\n",
        "print(\"Accuracy=\", metrics.accuracy_score(y_test,predection_test))"
      ],
      "metadata": {
        "colab": {
          "base_uri": "https://localhost:8080/"
        },
        "id": "1YCsyQGgisYs",
        "outputId": "0693164b-7544-4265-9947-01d52edd7202"
      },
      "execution_count": 70,
      "outputs": [
        {
          "output_type": "stream",
          "name": "stdout",
          "text": [
            "Accuracy= 1.0\n"
          ]
        }
      ]
    },
    {
      "cell_type": "code",
      "source": [
        "from sklearn.metrics import ConfusionMatrixDisplay,confusion_matrix\n",
        "cm = confusion_matrix(y_test, predection_test, labels=model.classes_)\n",
        "disp = ConfusionMatrixDisplay(confusion_matrix=cm,display_labels=model.classes_)\n",
        "disp.plot()\n",
        "plt.show()"
      ],
      "metadata": {
        "colab": {
          "base_uri": "https://localhost:8080/",
          "height": 278
        },
        "id": "ZQY1idPx2MlD",
        "outputId": "b5593c43-419a-4643-fd81-b009421dd995"
      },
      "execution_count": 71,
      "outputs": [
        {
          "output_type": "display_data",
          "data": {
            "image/png": "[encoded data removed]",
            "text/plain": [
              "<Figure size 432x288 with 2 Axes>"
            ]
          },
          "metadata": {
            "needs_background": "light"
          }
        }
      ]
    },
    {
      "cell_type": "code",
      "source": [
        "from sklearn.metrics import confusion_matrix, classification_report, f1_score\n",
        "print(classification_report(y_test, predection_test))"
      ],
      "metadata": {
        "colab": {
          "base_uri": "https://localhost:8080/"
        },
        "id": "oFyBYPA9zIuG",
        "outputId": "6dcbefb4-ee06-4f2c-b8db-d5e30a48ac3f"
      },
      "execution_count": 72,
      "outputs": [
        {
          "output_type": "stream",
          "name": "stdout",
          "text": [
            "              precision    recall  f1-score   support\n",
            "\n",
            "         255       1.00      1.00      1.00     88523\n",
            "\n",
            "    accuracy                           1.00     88523\n",
            "   macro avg       1.00      1.00      1.00     88523\n",
            "weighted avg       1.00      1.00      1.00     88523\n",
            "\n"
          ]
        }
      ]
    },
    {
      "cell_type": "code",
      "source": [
        "model_name=\"RF_model\"\n",
        "pickle.dump(model,open(model_name,'wb'))"
      ],
      "metadata": {
        "id": "tAAyyTacn-2s"
      },
      "execution_count": 73,
      "outputs": []
    },
    {
      "cell_type": "code",
      "source": [
        "def feature_extraction(img):\n",
        "    df = pd.DataFrame()\n",
        "\n",
        "\n",
        "#All features generated must match the way features are generated for TRAINING.\n",
        "#Feature1 is our original image pixels\n",
        "    img2 = img.reshape(-1)\n",
        "    df['Pixel_Value'] = img2\n",
        "\n",
        "#Generate Gabor features\n",
        "    num = 1\n",
        "    kernels = []\n",
        "    for theta in range(2):\n",
        "        theta = theta / 4. * np.pi\n",
        "        for sigma in (1, 3):\n",
        "            for lamda in np.arange(0, np.pi, np.pi / 4):\n",
        "                for gamma in (0.05, 0.5):\n",
        "#               print(theta, sigma, , lamda, frequency)\n",
        "                \n",
        "                    gabor_label = 'Gabor' + str(num)\n",
        "#                    print(gabor_label)\n",
        "                    ksize=9\n",
        "                    kernel = cv2.getGaborKernel((ksize, ksize), sigma, theta, lamda, gamma, 0, ktype=cv2.CV_32F)    \n",
        "                    kernels.append(kernel)\n",
        "                    #Now filter image and add values to new column\n",
        "                    fimg = cv2.filter2D(img2, cv2.CV_8UC3, kernel)\n",
        "                    filtered_img = fimg.reshape(-1)\n",
        "                    df[gabor_label] = filtered_img  #Modify this to add new column for each gabor\n",
        "                    num += 1\n",
        "########################################\n",
        "#Geerate OTHER FEATURES and add them to the data frame\n",
        "#Feature 3 is canny edge\n",
        "    edges = cv2.Canny(img, 100,200)   #Image, min and max values\n",
        "    edges1 = edges.reshape(-1)\n",
        "    df['Canny Edge'] = edges1 #Add column to original dataframe\n",
        "\n",
        "    from skimage.filters import roberts, sobel, scharr, prewitt\n",
        "\n",
        "#Feature 4 is Roberts edge\n",
        "    edge_roberts = roberts(img)\n",
        "    edge_roberts1 = edge_roberts.reshape(-1)\n",
        "    df['Roberts'] = edge_roberts1\n",
        "\n",
        "#Feature 5 is Sobel\n",
        "    edge_sobel = sobel(img)\n",
        "    edge_sobel1 = edge_sobel.reshape(-1)\n",
        "    df['Sobel'] = edge_sobel1\n",
        "\n",
        "#Feature 6 is Scharr\n",
        "    edge_scharr = scharr(img)\n",
        "    edge_scharr1 = edge_scharr.reshape(-1)\n",
        "    df['Scharr'] = edge_scharr1\n",
        "\n",
        "    #Feature 7 is Prewitt\n",
        "    edge_prewitt = prewitt(img)\n",
        "    edge_prewitt1 = edge_prewitt.reshape(-1)\n",
        "    df['Prewitt'] = edge_prewitt1\n",
        "\n",
        "    #Feature 8 is Gaussian with sigma=3\n",
        "    from scipy import ndimage as nd\n",
        "    gaussian_img = nd.gaussian_filter(img, sigma=3)\n",
        "    gaussian_img1 = gaussian_img.reshape(-1)\n",
        "    df['Gaussian s3'] = gaussian_img1\n",
        "\n",
        "    #Feature 9 is Gaussian with sigma=7\n",
        "    gaussian_img2 = nd.gaussian_filter(img, sigma=7)\n",
        "    gaussian_img3 = gaussian_img2.reshape(-1)\n",
        "    df['Gaussian s7'] = gaussian_img3\n",
        "\n",
        "    #Feature 10 is Median with sigma=3\n",
        "    median_img = nd.median_filter(img, size=3)\n",
        "    median_img1 = median_img.reshape(-1)\n",
        "    df['Median s3'] = median_img1\n",
        "\n",
        "    #Feature 11 is Variance with size=3\n",
        "    variance_img = nd.generic_filter(img, np.var, size=3)\n",
        "    variance_img1 = variance_img.reshape(-1)\n",
        "    df['Variance s3'] = variance_img1  #Add column to original dataframe\n",
        "\n",
        "\n",
        "    return df"
      ],
      "metadata": {
        "id": "BD44BbAcoIua"
      },
      "execution_count": 74,
      "outputs": []
    },
    {
      "cell_type": "code",
      "source": [
        "filename =\"RF_model\"\n",
        "loaded_model=pickle.load(open(filename,'rb'))\n",
        "\n",
        "X_val = \"/content/drive/MyDrive/Colab Notebooks/road_segmentation_ideal/testing/input/\""
      ],
      "metadata": {
        "id": "afc-sMXGpgY2"
      },
      "execution_count": 75,
      "outputs": []
    },
    {
      "cell_type": "code",
      "source": [
        "from matplotlib import pyplot as plt\n",
        "for file in os.listdir(X_val):\n",
        "    #print(file)     #just stop here to see all file names printed\n",
        "    img1= cv2.imread(X_val+file)\n",
        "    img = cv2.cvtColor(img1,cv2.COLOR_BGR2GRAY)\n",
        "\n",
        "#Call the feature extraction function.\n",
        "    X = feature_extraction(img)\n",
        "    result = loaded_model.predict(X)\n",
        "    segmented = result.reshape((img.shape))\n",
        "    plt.imshow(segmented, cmap ='jet')\n",
        "    name = file.split(\"e_\")\n",
        "    plt.imsave('/content/drive/MyDrive/Colab Notebooks/road_segmentation_ideal/Segmented/'+ name[1], segmented, cmap ='jet')"
      ],
      "metadata": {
        "colab": {
          "base_uri": "https://localhost:8080/",
          "height": 455
        },
        "id": "D9_Q0UlEqEAG",
        "outputId": "7003ba03-6066-45f3-fec5-18a3d02f34cd"
      },
      "execution_count": 76,
      "outputs": [
        {
          "output_type": "error",
          "ename": "IndexError",
          "evalue": "ignored",
          "traceback": [
            "\u001b[0;31m---------------------------------------------------------------------------\u001b[0m",
            "\u001b[0;31mIndexError\u001b[0m                                Traceback (most recent call last)",
            "\u001b[0;32m<ipython-input-76-f213801f101e>\u001b[0m in \u001b[0;36m<module>\u001b[0;34m()\u001b[0m\n\u001b[1;32m     11\u001b[0m     \u001b[0mplt\u001b[0m\u001b[0;34m.\u001b[0m\u001b[0mimshow\u001b[0m\u001b[0;34m(\u001b[0m\u001b[0msegmented\u001b[0m\u001b[0;34m,\u001b[0m \u001b[0mcmap\u001b[0m \u001b[0;34m=\u001b[0m\u001b[0;34m'jet'\u001b[0m\u001b[0;34m)\u001b[0m\u001b[0;34m\u001b[0m\u001b[0;34m\u001b[0m\u001b[0m\n\u001b[1;32m     12\u001b[0m     \u001b[0mname\u001b[0m \u001b[0;34m=\u001b[0m \u001b[0mfile\u001b[0m\u001b[0;34m.\u001b[0m\u001b[0msplit\u001b[0m\u001b[0;34m(\u001b[0m\u001b[0;34m\"e_\"\u001b[0m\u001b[0;34m)\u001b[0m\u001b[0;34m\u001b[0m\u001b[0;34m\u001b[0m\u001b[0m\n\u001b[0;32m---> 13\u001b[0;31m     \u001b[0mplt\u001b[0m\u001b[0;34m.\u001b[0m\u001b[0mimsave\u001b[0m\u001b[0;34m(\u001b[0m\u001b[0;34m'/content/drive/MyDrive/Colab Notebooks/road_segmentation_ideal/Segmented/'\u001b[0m\u001b[0;34m+\u001b[0m \u001b[0mname\u001b[0m\u001b[0;34m[\u001b[0m\u001b[0;36m1\u001b[0m\u001b[0;34m]\u001b[0m\u001b[0;34m,\u001b[0m \u001b[0msegmented\u001b[0m\u001b[0;34m,\u001b[0m \u001b[0mcmap\u001b[0m \u001b[0;34m=\u001b[0m\u001b[0;34m'jet'\u001b[0m\u001b[0;34m)\u001b[0m\u001b[0;34m\u001b[0m\u001b[0;34m\u001b[0m\u001b[0m\n\u001b[0m",
            "\u001b[0;31mIndexError\u001b[0m: list index out of range"
          ]
        },
        {
          "output_type": "display_data",
          "data": {
            "image/png": "[encoded data removed]",
            "text/plain": [
              "<Figure size 432x288 with 1 Axes>"
            ]
          },
          "metadata": {
            "needs_background": "light"
          }
        }
      ]
    }
  ]
}